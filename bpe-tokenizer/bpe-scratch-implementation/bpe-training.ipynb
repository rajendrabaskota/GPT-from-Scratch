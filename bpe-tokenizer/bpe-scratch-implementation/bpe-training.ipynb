{
 "cells": [
  {
   "cell_type": "markdown",
   "id": "0788d338",
   "metadata": {},
   "source": [
    "## **Training**"
   ]
  },
  {
   "cell_type": "code",
   "execution_count": 1,
   "id": "20eb8a7b",
   "metadata": {},
   "outputs": [],
   "source": [
    "from tqdm import tqdm\n",
    "import re\n",
    "import json\n",
    "from collections import defaultdict\n",
    "from transformers import AutoTokenizer\n",
    "\n",
    "tokenizer = AutoTokenizer.from_pretrained(\"gpt2\")"
   ]
  },
  {
   "cell_type": "markdown",
   "id": "66f9cd22",
   "metadata": {},
   "source": [
    "## **Loading the Dataset**\n",
    "* Add the kaggle dataset **Machine Translation Data Set** by Aadish Joshi to your working directory"
   ]
  },
  {
   "cell_type": "code",
   "execution_count": 6,
   "id": "b81adac2",
   "metadata": {},
   "outputs": [],
   "source": [
    "corpus = \"\"\n",
    "with open(\"/kaggle/input/machine-translation-data-set/enlish_data.txt\", 'r', encoding='utf-8') as f:\n",
    "    corpus = f.read()"
   ]
  },
  {
   "cell_type": "markdown",
   "id": "d5ebb6a4",
   "metadata": {},
   "source": [
    "## **Fixing the apostrophe and space error in the dataset**"
   ]
  },
  {
   "cell_type": "code",
   "execution_count": null,
   "id": "59a82afd",
   "metadata": {},
   "outputs": [],
   "source": [
    "def fix_apostrophe_space(input_string):\n",
    "    pattern = re.compile(r\"(?<=\\w)'\\s(?=[tslvrm])\")\n",
    "    output_string = re.sub(pattern, \"'\", input_string)\n",
    "\n",
    "    return output_string\n",
    "\n",
    "corpus = fix_apostrophe_space(corpus)\n",
    "print(corpus[:5000])"
   ]
  },
  {
   "cell_type": "code",
   "execution_count": null,
   "id": "8b98d9c7",
   "metadata": {},
   "outputs": [],
   "source": [
    "corpus = corpus.split(\".\")\n",
    "print(len(corpus))"
   ]
  },
  {
   "cell_type": "code",
   "execution_count": null,
   "id": "b57c5e82",
   "metadata": {},
   "outputs": [],
   "source": [
    "word_freqs = defaultdict(int)\n",
    "\n",
    "for text in corpus:\n",
    "    words_with_offsets = tokenizer.backend_tokenizer.pre_tokenizer.pre_tokenize_str(text)\n",
    "    new_words = [word for word, offset in words_with_offsets]\n",
    "    for word in new_words:\n",
    "        word_freqs[word] += 1"
   ]
  },
  {
   "cell_type": "code",
   "execution_count": null,
   "id": "0ccaa7f2",
   "metadata": {},
   "outputs": [],
   "source": [
    "alphabet = []\n",
    "\n",
    "for word in word_freqs.keys():\n",
    "    for letter in word:\n",
    "        if letter not in alphabet:\n",
    "            alphabet.append(letter)\n",
    "alphabet.sort()\n",
    "\n",
    "print(alphabet)"
   ]
  },
  {
   "cell_type": "code",
   "execution_count": null,
   "id": "46ff876b",
   "metadata": {},
   "outputs": [],
   "source": [
    "vocab = [\"<|endoftext|>\"] + alphabet.copy()\n",
    "print(vocab)"
   ]
  },
  {
   "cell_type": "code",
   "execution_count": null,
   "id": "cfc64853",
   "metadata": {},
   "outputs": [],
   "source": [
    "splits = {word: [c for c in word] for word in word_freqs.keys()}"
   ]
  },
  {
   "cell_type": "code",
   "execution_count": null,
   "id": "f7f1352a",
   "metadata": {},
   "outputs": [],
   "source": [
    "def compute_pair_freqs(splits):\n",
    "    pair_freqs = defaultdict(int)\n",
    "    for word, freq in word_freqs.items():\n",
    "        split = splits[word]\n",
    "        if len(split) == 1:\n",
    "            continue\n",
    "        for i in range(len(split) - 1):\n",
    "            pair = (split[i], split[i + 1])\n",
    "            pair_freqs[pair] += freq\n",
    "    return pair_freqs"
   ]
  },
  {
   "cell_type": "code",
   "execution_count": null,
   "id": "9cba9e0f",
   "metadata": {},
   "outputs": [],
   "source": [
    "merges = {(\"Ġ\", \"t\"): \"Ġt\"}\n",
    "vocab.append(\"Ġt\")"
   ]
  },
  {
   "cell_type": "code",
   "execution_count": null,
   "id": "79a12196",
   "metadata": {},
   "outputs": [],
   "source": [
    "def merge_pair(a, b, splits):\n",
    "    for word in word_freqs:\n",
    "        split = splits[word]\n",
    "        if len(split) == 1:\n",
    "            continue\n",
    "\n",
    "        i = 0\n",
    "        while i < len(split) - 1:\n",
    "            if split[i] == a and split[i + 1] == b:\n",
    "                split = split[:i] + [a + b] + split[i + 2 :]\n",
    "            else:\n",
    "                i += 1\n",
    "        splits[word] = split\n",
    "    return splits"
   ]
  },
  {
   "cell_type": "code",
   "execution_count": null,
   "id": "95318c5d",
   "metadata": {},
   "outputs": [],
   "source": [
    "splits = merge_pair(\"Ġ\", \"t\", splits)\n",
    "print(splits[\"Ġtemple\"])"
   ]
  },
  {
   "cell_type": "markdown",
   "id": "1c835967",
   "metadata": {},
   "source": [
    "## **Byte-Pair Encoding**"
   ]
  },
  {
   "cell_type": "code",
   "execution_count": null,
   "id": "8be99a1a",
   "metadata": {},
   "outputs": [],
   "source": [
    "vocab_size = 22000\n",
    "\n",
    "for i in tqdm(range(vocab_size)):\n",
    "    pair_freqs = compute_pair_freqs(splits)\n",
    "    best_pair = \"\"\n",
    "    max_freq = None\n",
    "    for pair, freq in pair_freqs.items():\n",
    "        if max_freq is None or max_freq < freq:\n",
    "            best_pair = pair\n",
    "            max_freq = freq\n",
    "    splits = merge_pair(*best_pair, splits)\n",
    "    merges[best_pair] = best_pair[0] + best_pair[1]\n",
    "    vocab.append(best_pair[0] + best_pair[1])"
   ]
  },
  {
   "cell_type": "code",
   "execution_count": null,
   "id": "53347339",
   "metadata": {},
   "outputs": [],
   "source": [
    "token2index = {token: i for i, token in enumerate(vocab)}\n",
    "merges_str = {str(pair): merge for pair, merge in merges.items()}"
   ]
  },
  {
   "cell_type": "markdown",
   "id": "c7cdf683",
   "metadata": {},
   "source": [
    "## **Saving the files**"
   ]
  },
  {
   "cell_type": "code",
   "execution_count": null,
   "id": "3899a795",
   "metadata": {},
   "outputs": [],
   "source": [
    "json_file = json.dumps(token2index, indent=4)\n",
    "with open(\"vocab.json\", \"w\") as outfile:\n",
    "    json.dump(json_file, outfile)"
   ]
  },
  {
   "cell_type": "code",
   "execution_count": null,
   "id": "e1d6d009",
   "metadata": {},
   "outputs": [],
   "source": [
    "merges_json = json.dumps(merges_str, indent=4)\n",
    "with open(\"merges.json\", \"w\") as outfile:\n",
    "    json.dump(merges_json, outfile)"
   ]
  },
  {
   "cell_type": "markdown",
   "id": "73a7e766",
   "metadata": {},
   "source": [
    "## **Inference**"
   ]
  },
  {
   "cell_type": "code",
   "execution_count": null,
   "id": "98b738b4",
   "metadata": {},
   "outputs": [],
   "source": [
    "import ast\n",
    "import json\n",
    "from transformers import AutoTokenizer\n",
    "\n",
    "tokenizer = AutoTokenizer.from_pretrained(\"gpt2\")"
   ]
  },
  {
   "cell_type": "markdown",
   "id": "c8de4805",
   "metadata": {},
   "source": [
    "## **Loading trained vocab and merges**"
   ]
  },
  {
   "cell_type": "code",
   "execution_count": 11,
   "id": "e007d0c2",
   "metadata": {},
   "outputs": [],
   "source": [
    "f = open(\"vocab.json\")\n",
    "vocab = json.load(f)\n",
    "vocab = ast.literal_eval(vocab)\n",
    "\n",
    "f = open(\"merges.json\")\n",
    "merges_bpe = json.load(f)\n",
    "merges_bpe = ast.literal_eval(merges_bpe)"
   ]
  },
  {
   "cell_type": "code",
   "execution_count": null,
   "id": "bb42fc72",
   "metadata": {},
   "outputs": [],
   "source": [
    "merges = {}\n",
    "for key, value in merges_bpe.items():\n",
    "    merges[ast.literal_eval(key)] = value"
   ]
  },
  {
   "cell_type": "code",
   "execution_count": null,
   "id": "ca9856b8",
   "metadata": {},
   "outputs": [],
   "source": [
    "def tokenize(text):\n",
    "    pre_tokenize_result = tokenizer._tokenizer.pre_tokenizer.pre_tokenize_str(text)\n",
    "    pre_tokenized_text = [word for word, offset in pre_tokenize_result]\n",
    "    splits = [[l for l in word] for word in pre_tokenized_text]\n",
    "    for pair, merge in merges.items():\n",
    "        for idx, split in enumerate(splits):\n",
    "            i = 0\n",
    "            while i < len(split) - 1:\n",
    "                if split[i] == pair[0] and split[i + 1] == pair[1]:\n",
    "                    split = split[:i] + [merge] + split[i + 2 :]\n",
    "                else:\n",
    "                    i += 1\n",
    "            splits[idx] = split\n",
    "\n",
    "    return sum(splits, [])"
   ]
  },
  {
   "cell_type": "code",
   "execution_count": null,
   "id": "af7008c9",
   "metadata": {},
   "outputs": [],
   "source": []
  }
 ],
 "metadata": {
  "kernelspec": {
   "display_name": "Python 3 (ipykernel)",
   "language": "python",
   "name": "python3"
  },
  "language_info": {
   "codemirror_mode": {
    "name": "ipython",
    "version": 3
   },
   "file_extension": ".py",
   "mimetype": "text/x-python",
   "name": "python",
   "nbconvert_exporter": "python",
   "pygments_lexer": "ipython3",
   "version": "3.9.12"
  }
 },
 "nbformat": 4,
 "nbformat_minor": 5
}
